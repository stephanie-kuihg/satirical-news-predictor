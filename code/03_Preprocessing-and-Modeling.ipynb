{
 "cells": [
  {
   "cell_type": "markdown",
   "metadata": {},
   "source": [
    "# 3. Pre-processing and Modelling\n",
    "\n",
    "## Overview<a class=\"anchor\" id=\"overview\"></a>\n",
    "---\n",
    "This section will pre-process and model using the cleaned datasets. Estimators selected for modelling are Multinomial Naive Bayes and Logistic Regression. <br/>"
   ]
  },
  {
   "cell_type": "markdown",
   "metadata": {},
   "source": [
    "## Table of Contents <a class=\"anchor\" id=\"toc\"></a>\n",
    "---\n",
    "\n",
    "* [Overview](#overview)\n",
    "* [Importing Libraries](#importinglibraries)\n",
    "* [Creating Custom Functions](#customfunctions)\n",
    "* [Pre-processing for Modelling](#preprocessing)\n",
    "* [Modelling & Evaluation](#modelevaluation)\n",
    "    * [Naive Bayes](#naivebayes)\n",
    "        * [Model NB_1.1](#nb_1.1)\n",
    "        * [Model NB_1.2](#nb_1.2)\n",
    "        * [Model NB_1.3](#nb_1.3)\n",
    "        * [Model NB_1.4](#nb_1.4)\n",
    "        * [Summary](#nb_summary)\n",
    "    * [Logistic Regression](#logreg)\n",
    "        * [Model LR_2.1](#lr_2.1)\n",
    "        * [Model LR_2.2](#lr_2.2)\n",
    "        * [Model LR_2.3](#lr_2.3)\n",
    "        * [Model LR_2.4](#lr_2.4)\n",
    "        * [Summary](#lr_summary)\n",
    "    * [Comparison of scores across all models](#comparison)\n",
    "* [Conclusions & Future Development](#conclusions)"
   ]
  },
  {
   "cell_type": "markdown",
   "metadata": {},
   "source": [
    "## Importing Libraries <a class=\"anchor\" id=\"importinglibraries\"></a>\n",
    "---\n",
    "[Back to top!](#toc)"
   ]
  },
  {
   "cell_type": "code",
   "execution_count": 2,
   "metadata": {},
   "outputs": [],
   "source": [
    "import pandas as pd\n",
    "import numpy as np\n",
    "import matplotlib.pyplot as plt\n",
    "import seaborn as sns\n",
    "from tabulate import tabulate\n",
    "\n",
    "from sklearn.model_selection import train_test_split, cross_val_score, GridSearchCV\n",
    "from sklearn.pipeline import Pipeline\n",
    "from sklearn.naive_bayes import MultinomialNB\n",
    "from sklearn.linear_model import LogisticRegression\n",
    "from sklearn.metrics import confusion_matrix, plot_confusion_matrix\n",
    "from sklearn.metrics import accuracy_score, precision_score, recall_score, roc_auc_score, plot_roc_curve\n",
    "from sklearn.feature_extraction.text import CountVectorizer, TfidfVectorizer"
   ]
  },
  {
   "cell_type": "markdown",
   "metadata": {},
   "source": [
    "## Custom Functions <a class=\"anchor\" id=\"customfunctions\"></a>\n",
    "---\n",
    "[Back to top!](#toc)"
   ]
  },
  {
   "cell_type": "code",
   "execution_count": 3,
   "metadata": {},
   "outputs": [],
   "source": [
    "def get_scores(model_name, pipeline):\n",
    "    print(model_name)\n",
    "    print('------------')\n",
    "    train_score = pipeline.score(X_train, y_train)\n",
    "    print(f'Training score: {round(train_score, 4)}')\n",
    "    test_score = pipeline.score(X_test, y_test)\n",
    "    print(f'Testing score: {round(test_score, 4)}')"
   ]
  },
  {
   "cell_type": "code",
   "execution_count": 4,
   "metadata": {},
   "outputs": [],
   "source": [
    "from sklearn.metrics import accuracy_score, precision_score, recall_score, roc_auc_score, f1_score\n",
    "\n",
    "def get_evaluation_metrics(model_name, cm, preds):\n",
    "    print(model_name)\n",
    "    print('------------')\n",
    "    print(\"True Negatives: %s\" % tn)\n",
    "    print(\"False Positives: %s\" % fp)\n",
    "    print(\"False Negatives: %s\" % fn)\n",
    "    print(\"True Positives: %s\" % tp)\n",
    "    print()\n",
    "    \n",
    "    # accuracy = (tn + tp) / (tn + fp + fn + tp) \n",
    "    accuracy = accuracy_score(y_test, preds) \n",
    "    print(f'Accuracy: {round(accuracy, 4)}')\n",
    "    \n",
    "    specificity = tn / (tn + fp)\n",
    "    print(f'Specificity: {round(specificity, 4)}')\n",
    "    \n",
    "    # sensitivity = tp / (tp + fn)\n",
    "    sensitivity = recall_score(y_test, preds)\n",
    "    print(f'Sensitivity: {round(sensitivity, 4)}')\n",
    "    \n",
    "    # precision = tp / (tp + fp)\n",
    "    precision = precision_score(y_test, preds)\n",
    "    print(f'Precision: {round(precision, 4)}')\n",
    "    \n",
    "    # f1score = 2 * (precision*sensitivity) / (precision + sensitivity)\n",
    "    f1score = f1_score(y_test, preds)\n",
    "    print(f'F1 score: {round(f1score, 4)}')\n",
    "    \n",
    "    roc_auc = roc_auc_score(y_test, preds)\n",
    "    print(f'ROC AUC score: {round(roc_auc, 4)}')"
   ]
  },
  {
   "cell_type": "code",
   "execution_count": 5,
   "metadata": {},
   "outputs": [],
   "source": [
    "def get_gs_metrics(model_name, gs_model):\n",
    "    print(model_name)\n",
    "    print('------------')\n",
    "    # best params\n",
    "    best_params = gs_model.best_params_\n",
    "    print(f\"Best Parameters: {best_params}\")\n",
    "    # best score\n",
    "    best_score = gs_model.best_score_\n",
    "    print(f\"Best train score: {round(best_score, 4)}\")"
   ]
  },
  {
   "cell_type": "markdown",
   "metadata": {},
   "source": [
    "## Pre-processing for Modelling <a class=\"anchor\" id=\"preprocessing\"></a>\n",
    "---\n",
    "[Back to top!](#toc)"
   ]
  },
  {
   "cell_type": "code",
   "execution_count": 6,
   "metadata": {},
   "outputs": [
    {
     "data": {
      "text/html": [
       "<div>\n",
       "<style scoped>\n",
       "    .dataframe tbody tr th:only-of-type {\n",
       "        vertical-align: middle;\n",
       "    }\n",
       "\n",
       "    .dataframe tbody tr th {\n",
       "        vertical-align: top;\n",
       "    }\n",
       "\n",
       "    .dataframe thead th {\n",
       "        text-align: right;\n",
       "    }\n",
       "</style>\n",
       "<table border=\"1\" class=\"dataframe\">\n",
       "  <thead>\n",
       "    <tr style=\"text-align: right;\">\n",
       "      <th></th>\n",
       "      <th>title</th>\n",
       "      <th>subreddit</th>\n",
       "    </tr>\n",
       "  </thead>\n",
       "  <tbody>\n",
       "    <tr>\n",
       "      <th>0</th>\n",
       "      <td>Representative Wants To Meet More Kids Online</td>\n",
       "      <td>TheOnion</td>\n",
       "    </tr>\n",
       "    <tr>\n",
       "      <th>1</th>\n",
       "      <td>Minnesota Deploys National Guard Ahead Of Next...</td>\n",
       "      <td>TheOnion</td>\n",
       "    </tr>\n",
       "    <tr>\n",
       "      <th>2</th>\n",
       "      <td>Small Kindnesses: Gamer Shields Ailing Grandmo...</td>\n",
       "      <td>TheOnion</td>\n",
       "    </tr>\n",
       "    <tr>\n",
       "      <th>3</th>\n",
       "      <td>Report: San Diegans Just Assumed Padres Were I...</td>\n",
       "      <td>TheOnion</td>\n",
       "    </tr>\n",
       "    <tr>\n",
       "      <th>4</th>\n",
       "      <td>Colorado Temporarily Re-Bans Marijuana For Sta...</td>\n",
       "      <td>TheOnion</td>\n",
       "    </tr>\n",
       "  </tbody>\n",
       "</table>\n",
       "</div>"
      ],
      "text/plain": [
       "                                               title subreddit\n",
       "0      Representative Wants To Meet More Kids Online  TheOnion\n",
       "1  Minnesota Deploys National Guard Ahead Of Next...  TheOnion\n",
       "2  Small Kindnesses: Gamer Shields Ailing Grandmo...  TheOnion\n",
       "3  Report: San Diegans Just Assumed Padres Were I...  TheOnion\n",
       "4  Colorado Temporarily Re-Bans Marijuana For Sta...  TheOnion"
      ]
     },
     "execution_count": 6,
     "metadata": {},
     "output_type": "execute_result"
    }
   ],
   "source": [
    "satire = pd.read_csv('../data/modelling_dataset.csv')\n",
    "satire.head()"
   ]
  },
  {
   "cell_type": "code",
   "execution_count": 7,
   "metadata": {},
   "outputs": [
    {
     "data": {
      "text/html": [
       "<div>\n",
       "<style scoped>\n",
       "    .dataframe tbody tr th:only-of-type {\n",
       "        vertical-align: middle;\n",
       "    }\n",
       "\n",
       "    .dataframe tbody tr th {\n",
       "        vertical-align: top;\n",
       "    }\n",
       "\n",
       "    .dataframe thead th {\n",
       "        text-align: right;\n",
       "    }\n",
       "</style>\n",
       "<table border=\"1\" class=\"dataframe\">\n",
       "  <thead>\n",
       "    <tr style=\"text-align: right;\">\n",
       "      <th></th>\n",
       "      <th>title</th>\n",
       "      <th>subreddit</th>\n",
       "    </tr>\n",
       "  </thead>\n",
       "  <tbody>\n",
       "    <tr>\n",
       "      <th>0</th>\n",
       "      <td>Representative Wants To Meet More Kids Online</td>\n",
       "      <td>1</td>\n",
       "    </tr>\n",
       "    <tr>\n",
       "      <th>1</th>\n",
       "      <td>Minnesota Deploys National Guard Ahead Of Next...</td>\n",
       "      <td>1</td>\n",
       "    </tr>\n",
       "    <tr>\n",
       "      <th>2</th>\n",
       "      <td>Small Kindnesses: Gamer Shields Ailing Grandmo...</td>\n",
       "      <td>1</td>\n",
       "    </tr>\n",
       "    <tr>\n",
       "      <th>3</th>\n",
       "      <td>Report: San Diegans Just Assumed Padres Were I...</td>\n",
       "      <td>1</td>\n",
       "    </tr>\n",
       "    <tr>\n",
       "      <th>4</th>\n",
       "      <td>Colorado Temporarily Re-Bans Marijuana For Sta...</td>\n",
       "      <td>1</td>\n",
       "    </tr>\n",
       "  </tbody>\n",
       "</table>\n",
       "</div>"
      ],
      "text/plain": [
       "                                               title  subreddit\n",
       "0      Representative Wants To Meet More Kids Online          1\n",
       "1  Minnesota Deploys National Guard Ahead Of Next...          1\n",
       "2  Small Kindnesses: Gamer Shields Ailing Grandmo...          1\n",
       "3  Report: San Diegans Just Assumed Padres Were I...          1\n",
       "4  Colorado Temporarily Re-Bans Marijuana For Sta...          1"
      ]
     },
     "execution_count": 7,
     "metadata": {},
     "output_type": "execute_result"
    }
   ],
   "source": [
    "satire['subreddit'] = satire['subreddit'].map({'TheOnion': 1, 'worldnews': 0})\n",
    "satire.head()"
   ]
  },
  {
   "cell_type": "code",
   "execution_count": 8,
   "metadata": {},
   "outputs": [
    {
     "data": {
      "text/html": [
       "<div>\n",
       "<style scoped>\n",
       "    .dataframe tbody tr th:only-of-type {\n",
       "        vertical-align: middle;\n",
       "    }\n",
       "\n",
       "    .dataframe tbody tr th {\n",
       "        vertical-align: top;\n",
       "    }\n",
       "\n",
       "    .dataframe thead th {\n",
       "        text-align: right;\n",
       "    }\n",
       "</style>\n",
       "<table border=\"1\" class=\"dataframe\">\n",
       "  <thead>\n",
       "    <tr style=\"text-align: right;\">\n",
       "      <th></th>\n",
       "      <th>title</th>\n",
       "      <th>subreddit</th>\n",
       "    </tr>\n",
       "  </thead>\n",
       "  <tbody>\n",
       "    <tr>\n",
       "      <th>4199</th>\n",
       "      <td>Tim Hortons, Metro among retailers in new repo...</td>\n",
       "      <td>0</td>\n",
       "    </tr>\n",
       "    <tr>\n",
       "      <th>4200</th>\n",
       "      <td>Covid Philippines: Man dies after being forced...</td>\n",
       "      <td>0</td>\n",
       "    </tr>\n",
       "    <tr>\n",
       "      <th>4201</th>\n",
       "      <td>Lightning strikes will more than double in Arc...</td>\n",
       "      <td>0</td>\n",
       "    </tr>\n",
       "    <tr>\n",
       "      <th>4202</th>\n",
       "      <td>As it battles its worst drought in 56 years, T...</td>\n",
       "      <td>0</td>\n",
       "    </tr>\n",
       "    <tr>\n",
       "      <th>4203</th>\n",
       "      <td>Iran indicts 10 officials over shootdown of Uk...</td>\n",
       "      <td>0</td>\n",
       "    </tr>\n",
       "  </tbody>\n",
       "</table>\n",
       "</div>"
      ],
      "text/plain": [
       "                                                  title  subreddit\n",
       "4199  Tim Hortons, Metro among retailers in new repo...          0\n",
       "4200  Covid Philippines: Man dies after being forced...          0\n",
       "4201  Lightning strikes will more than double in Arc...          0\n",
       "4202  As it battles its worst drought in 56 years, T...          0\n",
       "4203  Iran indicts 10 officials over shootdown of Uk...          0"
      ]
     },
     "execution_count": 8,
     "metadata": {},
     "output_type": "execute_result"
    }
   ],
   "source": [
    "satire.tail()"
   ]
  },
  {
   "cell_type": "code",
   "execution_count": 9,
   "metadata": {},
   "outputs": [],
   "source": [
    "X = satire['title']\n",
    "y = satire['subreddit']"
   ]
  },
  {
   "cell_type": "code",
   "execution_count": 10,
   "metadata": {},
   "outputs": [
    {
     "data": {
      "text/plain": [
       "1    0.556851\n",
       "0    0.443149\n",
       "Name: subreddit, dtype: float64"
      ]
     },
     "execution_count": 10,
     "metadata": {},
     "output_type": "execute_result"
    }
   ],
   "source": [
    "# checking balance of classes\n",
    "y.value_counts(normalize=True)"
   ]
  },
  {
   "cell_type": "code",
   "execution_count": 11,
   "metadata": {},
   "outputs": [],
   "source": [
    "# split data into training and testing sets\n",
    "X_train, X_test, y_train, y_test = train_test_split(X, y, test_size=0.25, random_state=42)"
   ]
  },
  {
   "cell_type": "code",
   "execution_count": 12,
   "metadata": {},
   "outputs": [
    {
     "data": {
      "text/plain": [
       "1    0.5804\n",
       "0    0.4196\n",
       "Name: subreddit, dtype: float64"
      ]
     },
     "execution_count": 12,
     "metadata": {},
     "output_type": "execute_result"
    }
   ],
   "source": [
    "# baseline accuracy\n",
    "y_test.value_counts(normalize=True)"
   ]
  },
  {
   "cell_type": "code",
   "execution_count": 63,
   "metadata": {},
   "outputs": [
    {
     "data": {
      "text/html": [
       "<div>\n",
       "<style scoped>\n",
       "    .dataframe tbody tr th:only-of-type {\n",
       "        vertical-align: middle;\n",
       "    }\n",
       "\n",
       "    .dataframe tbody tr th {\n",
       "        vertical-align: top;\n",
       "    }\n",
       "\n",
       "    .dataframe thead th {\n",
       "        text-align: right;\n",
       "    }\n",
       "</style>\n",
       "<table border=\"1\" class=\"dataframe\">\n",
       "  <thead>\n",
       "    <tr style=\"text-align: right;\">\n",
       "      <th></th>\n",
       "      <th>Model</th>\n",
       "      <th>cvec</th>\n",
       "      <th>tvec</th>\n",
       "      <th>gs</th>\n",
       "      <th>Train Score</th>\n",
       "      <th>Test Score</th>\n",
       "      <th>Precision</th>\n",
       "      <th>Specificity</th>\n",
       "      <th>Recall</th>\n",
       "      <th>F1 Score</th>\n",
       "      <th>ROC AUC Score</th>\n",
       "    </tr>\n",
       "  </thead>\n",
       "  <tbody>\n",
       "    <tr>\n",
       "      <th>0</th>\n",
       "      <td>Null Model</td>\n",
       "      <td>0</td>\n",
       "      <td>0</td>\n",
       "      <td>0</td>\n",
       "      <td>NaN</td>\n",
       "      <td>0.5804</td>\n",
       "      <td>NaN</td>\n",
       "      <td>NaN</td>\n",
       "      <td>NaN</td>\n",
       "      <td>NaN</td>\n",
       "      <td>NaN</td>\n",
       "    </tr>\n",
       "  </tbody>\n",
       "</table>\n",
       "</div>"
      ],
      "text/plain": [
       "        Model  cvec  tvec  gs  Train Score  Test Score  Precision  \\\n",
       "0  Null Model     0     0   0          NaN      0.5804        NaN   \n",
       "\n",
       "   Specificity  Recall  F1 Score  ROC AUC Score  \n",
       "0          NaN     NaN       NaN            NaN  "
      ]
     },
     "execution_count": 63,
     "metadata": {},
     "output_type": "execute_result"
    }
   ],
   "source": [
    "# list of dict\n",
    "dict_null = [{'Model': 'Null Model', \n",
    "            'cvec': 0, 'tvec': 0, 'gs': 0,\n",
    "            'Train Score': np.nan, \n",
    "            'Test Score': 0.5804,\n",
    "            'Precision': np.nan, \n",
    "            'Specificity': np.nan,\n",
    "            'Recall': np.nan,\n",
    "            'F1 Score': np.nan, \n",
    "            'ROC AUC Score': np.nan}\n",
    "           ]\n",
    "\n",
    "df_null = pd.DataFrame(dict_null)\n",
    "df_null"
   ]
  },
  {
   "cell_type": "markdown",
   "metadata": {},
   "source": [
    "## Modelling & Evaluation <a class=\"anchor\" id=\"modelevaluation\"></a>\n",
    "---\n",
    "[Back to top!](#toc)\n",
    "\n",
    "The modelling workflow will be as such:\n",
    "1. Using a transformer of choice (in this case Count Vectorizer then TD-IDF Vectorizer) to transform the dataframe\n",
    "2. Using an estimator of choice (in this case Multinomial Naive Bayes then Logistic Regression) to train the model\n",
    "3. Evaluate the model based on metrics such as `Train Score`, `Test Score`, `Precision`, `Specificity`, `Recall`, `ROC AUC Score` and the confusion matrix.\n",
    "4. Using GridSearchCV to find the best hyperparameters for fine-tuning the model."
   ]
  },
  {
   "cell_type": "markdown",
   "metadata": {},
   "source": [
    "### Multinomial Naïve Bayes <a class=\"anchor\" id=\"naivebayes\"></a>\n",
    "---\n",
    "[Back to top!](#toc)\n",
    "\n",
    "A total of 4 models will be trained using Multinomial Naive Bayes as an estimator:\n",
    "* Model NB_1.1 - Using CountVectorizer and Multinomial Naive Bayes\n",
    "* Model NB_1.2 - Optimizing Model NB_1.1 using GridSearchCV\n",
    "* Model NB_1.3 - Using TF-IDF Vectorizer and Multinomial Naive Bayes\n",
    "* Model NB_1.4 - Optimizing Model_1.3 using GridSearchCV"
   ]
  },
  {
   "cell_type": "markdown",
   "metadata": {},
   "source": [
    "#### Model NB_1.1 - Using CountVectorizer and Multinomial Naive Bayes <a class=\"anchor\" id=\"nb_1.1\"></a>\n",
    "[Back to top!](#toc)"
   ]
  },
  {
   "cell_type": "code",
   "execution_count": 15,
   "metadata": {},
   "outputs": [
    {
     "data": {
      "text/plain": [
       "{'memory': None,\n",
       " 'steps': [('cvec',\n",
       "   CountVectorizer(stop_words=('english', 'onion', 'topical', 'ho'))),\n",
       "  ('nb', MultinomialNB())],\n",
       " 'verbose': False,\n",
       " 'cvec': CountVectorizer(stop_words=('english', 'onion', 'topical', 'ho')),\n",
       " 'nb': MultinomialNB(),\n",
       " 'cvec__analyzer': 'word',\n",
       " 'cvec__binary': False,\n",
       " 'cvec__decode_error': 'strict',\n",
       " 'cvec__dtype': numpy.int64,\n",
       " 'cvec__encoding': 'utf-8',\n",
       " 'cvec__input': 'content',\n",
       " 'cvec__lowercase': True,\n",
       " 'cvec__max_df': 1.0,\n",
       " 'cvec__max_features': None,\n",
       " 'cvec__min_df': 1,\n",
       " 'cvec__ngram_range': (1, 1),\n",
       " 'cvec__preprocessor': None,\n",
       " 'cvec__stop_words': ('english', 'onion', 'topical', 'ho'),\n",
       " 'cvec__strip_accents': None,\n",
       " 'cvec__token_pattern': '(?u)\\\\b\\\\w\\\\w+\\\\b',\n",
       " 'cvec__tokenizer': None,\n",
       " 'cvec__vocabulary': None,\n",
       " 'nb__alpha': 1.0,\n",
       " 'nb__class_prior': None,\n",
       " 'nb__fit_prior': True}"
      ]
     },
     "execution_count": 15,
     "metadata": {},
     "output_type": "execute_result"
    }
   ],
   "source": [
    "# redefining training and testing sets with same random_state\n",
    "X_train, X_test, y_train, y_test = train_test_split(X, y, test_size=0.25, random_state=42)\n",
    "\n",
    "# Setting up pipeline for model 1.1\n",
    "# 1. CountVectorizer (transformer)\n",
    "# 2. Multinomial Naive Bayes (estimator)\n",
    "pipe_11 = Pipeline([\n",
    "    ('cvec', CountVectorizer(stop_words=('english', 'onion', 'topical', 'ho'))),\n",
    "    ('nb', MultinomialNB())\n",
    "])\n",
    "\n",
    "# Fitting the pipeline\n",
    "pipe_11.fit(X_train, y_train)\n",
    "pipe_11.get_params()"
   ]
  },
  {
   "cell_type": "code",
   "execution_count": 16,
   "metadata": {},
   "outputs": [
    {
     "name": "stdout",
     "output_type": "stream",
     "text": [
      "Model NB_1.1\n",
      "------------\n",
      "Training score: 0.9772\n",
      "Testing score: 0.9039\n"
     ]
    }
   ],
   "source": [
    "get_scores('Model NB_1.1', pipe_11)\n",
    "\n",
    "# keeping variable for summary input later\n",
    "train_score_11 = pipe_11.score(X_train, y_train)"
   ]
  },
  {
   "cell_type": "code",
   "execution_count": 17,
   "metadata": {
    "scrolled": false
   },
   "outputs": [
    {
     "name": "stdout",
     "output_type": "stream",
     "text": [
      "Model NB_1.1\n",
      "------------\n",
      "True Negatives: 400\n",
      "False Positives: 41\n",
      "False Negatives: 60\n",
      "True Positives: 550\n",
      "\n",
      "Accuracy: 0.9039\n",
      "Specificity: 0.907\n",
      "Sensitivity: 0.9016\n",
      "Precision: 0.9306\n",
      "F1 score: 0.9159\n",
      "ROC AUC score: 0.9043\n"
     ]
    },
    {
     "data": {
      "image/png": "[encoded data removed]",
      "text/plain": [
       "<Figure size 432x288 with 2 Axes>"
      ]
     },
     "metadata": {
      "needs_background": "light"
     },
     "output_type": "display_data"
    }
   ],
   "source": [
    "# Get predictions\n",
    "preds_11 = pipe_11.predict(X_test)\n",
    "\n",
    "# Save confusion matrix values\n",
    "tn, fp, fn, tp = confusion_matrix(y_test, preds_11).ravel()\n",
    "cm_11 = tn, fp, fn, tp \n",
    "get_evaluation_metrics('Model NB_1.1', cm_11, preds_11)\n",
    "\n",
    "# keeping variable for summary input later\n",
    "spec_11 = tn / (tn + fp)\n",
    "\n",
    "# visualizing confusion matrix\n",
    "plot_confusion_matrix(pipe_11, X_test, y_test, cmap='Blues', values_format='d');"
   ]
  },
  {
   "cell_type": "markdown",
   "metadata": {},
   "source": [
    "#### Model NB_1.2 - Optimizing Model NB_1.1 using GridSearchCV <a class=\"anchor\" id=\"nb_1.2\"></a>\n",
    "[Back to top!](#toc)"
   ]
  },
  {
   "cell_type": "code",
   "execution_count": 18,
   "metadata": {},
   "outputs": [],
   "source": [
    "# Search over the following values of hyperparameters:\n",
    "# Maximum number of features fit: 2000, 3000, 4000, 5000\n",
    "# Minimum number of documents needed to include token: 2, 3\n",
    "# Maximum number of documents needed to include token: 90%, 95%\n",
    "# Check (individual tokens) and also check (individual tokens and 2-grams).\n",
    "\n",
    "pipe_params = {\n",
    "    'cvec__max_features': [2_000, 3_000, 4_000, 5_000],\n",
    "    'cvec__min_df': [2, 3],\n",
    "    'cvec__max_df': [.9, .95],\n",
    "    'cvec__ngram_range': [(1,1), (1,2)]\n",
    "}"
   ]
  },
  {
   "cell_type": "code",
   "execution_count": 19,
   "metadata": {},
   "outputs": [
    {
     "data": {
      "text/plain": [
       "GridSearchCV(cv=5,\n",
       "             estimator=Pipeline(steps=[('cvec',\n",
       "                                        CountVectorizer(stop_words=('english',\n",
       "                                                                    'onion',\n",
       "                                                                    'topical',\n",
       "                                                                    'ho'))),\n",
       "                                       ('nb', MultinomialNB())]),\n",
       "             param_grid={'cvec__max_df': [0.9, 0.95],\n",
       "                         'cvec__max_features': [2000, 3000, 4000, 5000],\n",
       "                         'cvec__min_df': [2, 3],\n",
       "                         'cvec__ngram_range': [(1, 1), (1, 2)]})"
      ]
     },
     "execution_count": 19,
     "metadata": {},
     "output_type": "execute_result"
    }
   ],
   "source": [
    "# Instantiate GridSearchCV.\n",
    "cvec_gs = GridSearchCV(pipe_11, # what object are we optimizing?\n",
    "                       param_grid=pipe_params, # what parameters values are we searching?\n",
    "                       cv=5) # 5-fold cross-validation.\n",
    "\n",
    "# Fit GridSearch to training data.\n",
    "cvec_gs.fit(X_train, y_train)"
   ]
  },
  {
   "cell_type": "code",
   "execution_count": 20,
   "metadata": {
    "scrolled": true
   },
   "outputs": [
    {
     "name": "stdout",
     "output_type": "stream",
     "text": [
      "Model NB_1.2\n",
      "------------\n",
      "Best Parameters: {'cvec__max_df': 0.9, 'cvec__max_features': 4000, 'cvec__min_df': 2, 'cvec__ngram_range': (1, 1)}\n",
      "Best train score: 0.901\n"
     ]
    }
   ],
   "source": [
    "get_gs_metrics('Model NB_1.2', cvec_gs)"
   ]
  },
  {
   "cell_type": "code",
   "execution_count": 21,
   "metadata": {
    "scrolled": true
   },
   "outputs": [
    {
     "name": "stdout",
     "output_type": "stream",
     "text": [
      "Model NB_1.2\n",
      "------------\n",
      "Training score: 0.9588\n",
      "Testing score: 0.8906\n"
     ]
    }
   ],
   "source": [
    "get_scores('Model NB_1.2', cvec_gs)\n",
    "\n",
    "# keeping variable for summary input later\n",
    "train_score_12 = cvec_gs.score(X_train, y_train)"
   ]
  },
  {
   "cell_type": "code",
   "execution_count": 22,
   "metadata": {},
   "outputs": [
    {
     "name": "stdout",
     "output_type": "stream",
     "text": [
      "Model NB_1.2\n",
      "------------\n",
      "True Negatives: 394\n",
      "False Positives: 47\n",
      "False Negatives: 68\n",
      "True Positives: 542\n",
      "\n",
      "Accuracy: 0.8906\n",
      "Specificity: 0.8934\n",
      "Sensitivity: 0.8885\n",
      "Precision: 0.9202\n",
      "F1 score: 0.9041\n",
      "ROC AUC score: 0.891\n"
     ]
    },
    {
     "data": {
      "image/png": "[encoded data removed]",
      "text/plain": [
       "<Figure size 432x288 with 2 Axes>"
      ]
     },
     "metadata": {
      "needs_background": "light"
     },
     "output_type": "display_data"
    }
   ],
   "source": [
    "# Get predictions\n",
    "preds_12 = cvec_gs.predict(X_test)\n",
    "\n",
    "# Save confusion matrix values\n",
    "tn, fp, fn, tp = confusion_matrix(y_test, preds_12).ravel()\n",
    "cm_12 = tn, fp, fn, tp \n",
    "get_evaluation_metrics('Model NB_1.2', cm_12, preds_12)\n",
    "\n",
    "# keeping variable for summary input later\n",
    "spec_12 = tn / (tn + fp)\n",
    "\n",
    "# visualizing confusion matrix\n",
    "plot_confusion_matrix(cvec_gs, X_test, y_test, cmap='Blues', values_format='d');"
   ]
  },
  {
   "cell_type": "markdown",
   "metadata": {},
   "source": [
    "#### Model NB_1.3 - Using TF-IDF Vectorizer and Multinomial Naive Bayes <a class=\"anchor\" id=\"nb_1.3\"></a>\n",
    "[Back to top!](#toc)"
   ]
  },
  {
   "cell_type": "code",
   "execution_count": 23,
   "metadata": {},
   "outputs": [
    {
     "data": {
      "text/plain": [
       "{'memory': None,\n",
       " 'steps': [('tvec',\n",
       "   TfidfVectorizer(stop_words=('english', 'onion', 'topical', 'ho'))),\n",
       "  ('nb', MultinomialNB())],\n",
       " 'verbose': False,\n",
       " 'tvec': TfidfVectorizer(stop_words=('english', 'onion', 'topical', 'ho')),\n",
       " 'nb': MultinomialNB(),\n",
       " 'tvec__analyzer': 'word',\n",
       " 'tvec__binary': False,\n",
       " 'tvec__decode_error': 'strict',\n",
       " 'tvec__dtype': numpy.float64,\n",
       " 'tvec__encoding': 'utf-8',\n",
       " 'tvec__input': 'content',\n",
       " 'tvec__lowercase': True,\n",
       " 'tvec__max_df': 1.0,\n",
       " 'tvec__max_features': None,\n",
       " 'tvec__min_df': 1,\n",
       " 'tvec__ngram_range': (1, 1),\n",
       " 'tvec__norm': 'l2',\n",
       " 'tvec__preprocessor': None,\n",
       " 'tvec__smooth_idf': True,\n",
       " 'tvec__stop_words': ('english', 'onion', 'topical', 'ho'),\n",
       " 'tvec__strip_accents': None,\n",
       " 'tvec__sublinear_tf': False,\n",
       " 'tvec__token_pattern': '(?u)\\\\b\\\\w\\\\w+\\\\b',\n",
       " 'tvec__tokenizer': None,\n",
       " 'tvec__use_idf': True,\n",
       " 'tvec__vocabulary': None,\n",
       " 'nb__alpha': 1.0,\n",
       " 'nb__class_prior': None,\n",
       " 'nb__fit_prior': True}"
      ]
     },
     "execution_count": 23,
     "metadata": {},
     "output_type": "execute_result"
    }
   ],
   "source": [
    "# redefining training and testing sets with same random_state\n",
    "X_train, X_test, y_train, y_test = train_test_split(X, y, test_size=0.25, random_state=42)\n",
    "\n",
    "# Setting up pipeline for model 1.3\n",
    "# 1. TD-IDF Vectorizer (transformer)\n",
    "# 2. Multinomial Naive Bayes (estimator)\n",
    "pipe_13 = Pipeline([\n",
    "    ('tvec', TfidfVectorizer(stop_words=('english', 'onion', 'topical', 'ho'))),\n",
    "    ('nb', MultinomialNB())\n",
    "])\n",
    "\n",
    "# Fitting the pipeline\n",
    "pipe_13.fit(X_train, y_train)\n",
    "pipe_13.get_params()"
   ]
  },
  {
   "cell_type": "code",
   "execution_count": 24,
   "metadata": {},
   "outputs": [
    {
     "name": "stdout",
     "output_type": "stream",
     "text": [
      "Model NB_1.3\n",
      "------------\n",
      "Training score: 0.9753\n",
      "Testing score: 0.8991\n"
     ]
    }
   ],
   "source": [
    "get_scores('Model NB_1.3', pipe_13)\n",
    "\n",
    "# keeping variable for summary input later\n",
    "train_score_13 = pipe_13.score(X_train, y_train)"
   ]
  },
  {
   "cell_type": "code",
   "execution_count": 25,
   "metadata": {},
   "outputs": [
    {
     "name": "stdout",
     "output_type": "stream",
     "text": [
      "Model NB_1.3\n",
      "------------\n",
      "True Negatives: 380\n",
      "False Positives: 61\n",
      "False Negatives: 45\n",
      "True Positives: 565\n",
      "\n",
      "Accuracy: 0.8991\n",
      "Specificity: 0.8617\n",
      "Sensitivity: 0.9262\n",
      "Precision: 0.9026\n",
      "F1 score: 0.9142\n",
      "ROC AUC score: 0.894\n"
     ]
    },
    {
     "data": {
      "image/png": "[encoded data removed]",
      "text/plain": [
       "<Figure size 432x288 with 2 Axes>"
      ]
     },
     "metadata": {
      "needs_background": "light"
     },
     "output_type": "display_data"
    }
   ],
   "source": [
    "# Get predictions\n",
    "preds_13 = pipe_13.predict(X_test)\n",
    "\n",
    "# Save confusion matrix values\n",
    "tn, fp, fn, tp = confusion_matrix(y_test, preds_13).ravel()\n",
    "cm_13 = tn, fp, fn, tp \n",
    "get_evaluation_metrics('Model NB_1.3', cm_13, preds_13)\n",
    "\n",
    "# keeping variable for summary input later\n",
    "spec_13 = tn / (tn + fp)\n",
    "\n",
    "# visualizing confusion matrix\n",
    "plot_confusion_matrix(pipe_13, X_test, y_test, cmap='Blues', values_format='d');"
   ]
  },
  {
   "cell_type": "markdown",
   "metadata": {},
   "source": [
    "#### Model NB_1.4 - Optimizing Model_1.3 using GridSearchCV <a class=\"anchor\" id=\"nb_1.4\"></a>\n",
    "[Back to top!](#toc)"
   ]
  },
  {
   "cell_type": "code",
   "execution_count": 26,
   "metadata": {},
   "outputs": [],
   "source": [
    "# Search over the following values of hyperparameters:\n",
    "# Maximum number of features fit: 2000, 3000, 4000, 5000\n",
    "# Minimum number of documents needed to include token: 2, 3\n",
    "# Maximum number of documents needed to include token: 90%, 95%\n",
    "# Check (individual tokens) and also check (individual tokens and 2-grams).\n",
    "\n",
    "pipe_params = {\n",
    "    'tvec__max_features': [2_000, 3_000, 4_000, 5_000],\n",
    "    'tvec__min_df': [2, 3],\n",
    "    'tvec__max_df': [.9, .95],\n",
    "    'tvec__ngram_range': [(1,1), (1,2)]\n",
    "}"
   ]
  },
  {
   "cell_type": "code",
   "execution_count": 27,
   "metadata": {},
   "outputs": [
    {
     "data": {
      "text/plain": [
       "GridSearchCV(cv=5,\n",
       "             estimator=Pipeline(steps=[('tvec',\n",
       "                                        TfidfVectorizer(stop_words=('english',\n",
       "                                                                    'onion',\n",
       "                                                                    'topical',\n",
       "                                                                    'ho'))),\n",
       "                                       ('nb', MultinomialNB())]),\n",
       "             param_grid={'tvec__max_df': [0.9, 0.95],\n",
       "                         'tvec__max_features': [2000, 3000, 4000, 5000],\n",
       "                         'tvec__min_df': [2, 3],\n",
       "                         'tvec__ngram_range': [(1, 1), (1, 2)]})"
      ]
     },
     "execution_count": 27,
     "metadata": {},
     "output_type": "execute_result"
    }
   ],
   "source": [
    "# Instantiate GridSearchCV.\n",
    "tvec_gs = GridSearchCV(pipe_13, # what object are we optimizing?\n",
    "                       param_grid=pipe_params, # what parameters values are we searching?\n",
    "                       cv=5) # 5-fold cross-validation.\n",
    "\n",
    "# Fit GridSearch to training data.\n",
    "tvec_gs.fit(X_train, y_train)"
   ]
  },
  {
   "cell_type": "code",
   "execution_count": 28,
   "metadata": {},
   "outputs": [
    {
     "name": "stdout",
     "output_type": "stream",
     "text": [
      "Model NB_1.4\n",
      "------------\n",
      "Best Parameters: {'tvec__max_df': 0.9, 'tvec__max_features': 4000, 'tvec__min_df': 2, 'tvec__ngram_range': (1, 1)}\n",
      "Best train score: 0.8972\n"
     ]
    }
   ],
   "source": [
    "get_gs_metrics('Model NB_1.4', tvec_gs)"
   ]
  },
  {
   "cell_type": "code",
   "execution_count": 29,
   "metadata": {},
   "outputs": [
    {
     "name": "stdout",
     "output_type": "stream",
     "text": [
      "Model NB_1.4\n",
      "------------\n",
      "Training score: 0.9597\n",
      "Testing score: 0.8896\n"
     ]
    }
   ],
   "source": [
    "get_scores('Model NB_1.4', tvec_gs)\n",
    "\n",
    "# keeping variable for summary input later\n",
    "train_score_14 = tvec_gs.score(X_train, y_train)"
   ]
  },
  {
   "cell_type": "code",
   "execution_count": 30,
   "metadata": {},
   "outputs": [
    {
     "name": "stdout",
     "output_type": "stream",
     "text": [
      "Model NB_1.4\n",
      "------------\n",
      "True Negatives: 373\n",
      "False Positives: 68\n",
      "False Negatives: 48\n",
      "True Positives: 562\n",
      "\n",
      "Accuracy: 0.8896\n",
      "Specificity: 0.8458\n",
      "Sensitivity: 0.9213\n",
      "Precision: 0.8921\n",
      "F1 score: 0.9065\n",
      "ROC AUC score: 0.8836\n"
     ]
    },
    {
     "data": {
      "image/png": "[encoded data removed]",
      "text/plain": [
       "<Figure size 432x288 with 2 Axes>"
      ]
     },
     "metadata": {
      "needs_background": "light"
     },
     "output_type": "display_data"
    }
   ],
   "source": [
    "# Get predictions\n",
    "preds_14 = tvec_gs.predict(X_test)\n",
    "\n",
    "# Save confusion matrix values\n",
    "tn, fp, fn, tp = confusion_matrix(y_test, preds_14).ravel()\n",
    "cm_14 = tn, fp, fn, tp \n",
    "get_evaluation_metrics('Model NB_1.4', cm_14, preds_14)\n",
    "\n",
    "# keeping variable for summary input later\n",
    "spec_14 = tn / (tn + fp)\n",
    "\n",
    "# visualizing confusion matrix\n",
    "plot_confusion_matrix(tvec_gs, X_test, y_test, cmap='Blues', values_format='d');"
   ]
  },
  {
   "cell_type": "markdown",
   "metadata": {},
   "source": [
    "#### Summary & Evaluation for Naive Bayes Modelling <a class=\"anchor\" id=\"nb_summary\"></a>\n",
    "[Back to top!](#toc)"
   ]
  },
  {
   "cell_type": "code",
   "execution_count": 31,
   "metadata": {
    "scrolled": false
   },
   "outputs": [],
   "source": [
    "# list of dict\n",
    "dict_nb = [{'Model': 'NB_1.1', \n",
    "            'cvec': 1, 'tvec': 0, 'gs': 0,\n",
    "            'Train Score': train_score_11, \n",
    "            'Test Score': accuracy_score(y_test, preds_11),\n",
    "            'Precision': precision_score(y_test, preds_11), \n",
    "            'Specificity': spec_11,\n",
    "            'Recall': recall_score(y_test, preds_11),\n",
    "            'F1 Score': f1_score(y_test, preds_11), \n",
    "            'ROC AUC Score': roc_auc_score(y_test, preds_11),},\n",
    "           {'Model': 'NB_1.2', \n",
    "            'cvec': 1, 'tvec': 0, 'gs': 1,\n",
    "            'Train Score': train_score_12, \n",
    "            'Test Score': accuracy_score(y_test, preds_13),\n",
    "            'Precision': precision_score(y_test, preds_13), \n",
    "            'Specificity': spec_12,\n",
    "            'Recall': recall_score(y_test, preds_13),\n",
    "            'F1 Score': f1_score(y_test, preds_13), \n",
    "            'ROC AUC Score': roc_auc_score(y_test, preds_13),},\n",
    "           {'Model': 'NB_1.3', \n",
    "            'cvec': 0, 'tvec': 1, 'gs': 0,\n",
    "            'Train Score': train_score_13, \n",
    "            'Test Score': accuracy_score(y_test, preds_13),\n",
    "            'Precision': precision_score(y_test, preds_13), \n",
    "            'Specificity': spec_13,\n",
    "            'Recall': recall_score(y_test, preds_13),\n",
    "            'F1 Score': f1_score(y_test, preds_13), \n",
    "            'ROC AUC Score': roc_auc_score(y_test, preds_13),},\n",
    "           {'Model': 'NB_1.4', \n",
    "            'cvec': 0, 'tvec': 1, 'gs': 1,\n",
    "            'Train Score': train_score_14, \n",
    "            'Test Score': accuracy_score(y_test, preds_14),\n",
    "            'Precision': precision_score(y_test, preds_14), \n",
    "            'Specificity': spec_14,\n",
    "            'Recall': recall_score(y_test, preds_14),\n",
    "            'F1 Score': f1_score(y_test, preds_14), \n",
    "            'ROC AUC Score': roc_auc_score(y_test, preds_14),}\n",
    "           ]"
   ]
  },
  {
   "cell_type": "code",
   "execution_count": 32,
   "metadata": {
    "scrolled": false
   },
   "outputs": [
    {
     "data": {
      "text/html": [
       "<div>\n",
       "<style scoped>\n",
       "    .dataframe tbody tr th:only-of-type {\n",
       "        vertical-align: middle;\n",
       "    }\n",
       "\n",
       "    .dataframe tbody tr th {\n",
       "        vertical-align: top;\n",
       "    }\n",
       "\n",
       "    .dataframe thead th {\n",
       "        text-align: right;\n",
       "    }\n",
       "</style>\n",
       "<table border=\"1\" class=\"dataframe\">\n",
       "  <thead>\n",
       "    <tr style=\"text-align: right;\">\n",
       "      <th></th>\n",
       "      <th>Model</th>\n",
       "      <th>cvec</th>\n",
       "      <th>tvec</th>\n",
       "      <th>gs</th>\n",
       "      <th>Train Score</th>\n",
       "      <th>Test Score</th>\n",
       "      <th>Precision</th>\n",
       "      <th>Specificity</th>\n",
       "      <th>Recall</th>\n",
       "      <th>F1 Score</th>\n",
       "      <th>ROC AUC Score</th>\n",
       "    </tr>\n",
       "  </thead>\n",
       "  <tbody>\n",
       "    <tr>\n",
       "      <th>0</th>\n",
       "      <td>NB_1.1</td>\n",
       "      <td>1</td>\n",
       "      <td>0</td>\n",
       "      <td>0</td>\n",
       "      <td>0.9772</td>\n",
       "      <td>0.9039</td>\n",
       "      <td>0.9306</td>\n",
       "      <td>0.9070</td>\n",
       "      <td>0.9016</td>\n",
       "      <td>0.9159</td>\n",
       "      <td>0.9043</td>\n",
       "    </tr>\n",
       "    <tr>\n",
       "      <th>1</th>\n",
       "      <td>NB_1.2</td>\n",
       "      <td>1</td>\n",
       "      <td>0</td>\n",
       "      <td>1</td>\n",
       "      <td>0.9588</td>\n",
       "      <td>0.8991</td>\n",
       "      <td>0.9026</td>\n",
       "      <td>0.8934</td>\n",
       "      <td>0.9262</td>\n",
       "      <td>0.9142</td>\n",
       "      <td>0.8940</td>\n",
       "    </tr>\n",
       "    <tr>\n",
       "      <th>2</th>\n",
       "      <td>NB_1.3</td>\n",
       "      <td>0</td>\n",
       "      <td>1</td>\n",
       "      <td>0</td>\n",
       "      <td>0.9753</td>\n",
       "      <td>0.8991</td>\n",
       "      <td>0.9026</td>\n",
       "      <td>0.8617</td>\n",
       "      <td>0.9262</td>\n",
       "      <td>0.9142</td>\n",
       "      <td>0.8940</td>\n",
       "    </tr>\n",
       "    <tr>\n",
       "      <th>3</th>\n",
       "      <td>NB_1.4</td>\n",
       "      <td>0</td>\n",
       "      <td>1</td>\n",
       "      <td>1</td>\n",
       "      <td>0.9597</td>\n",
       "      <td>0.8896</td>\n",
       "      <td>0.8921</td>\n",
       "      <td>0.8458</td>\n",
       "      <td>0.9213</td>\n",
       "      <td>0.9065</td>\n",
       "      <td>0.8836</td>\n",
       "    </tr>\n",
       "  </tbody>\n",
       "</table>\n",
       "</div>"
      ],
      "text/plain": [
       "    Model  cvec  tvec  gs  Train Score  Test Score  Precision  Specificity  \\\n",
       "0  NB_1.1     1     0   0       0.9772      0.9039     0.9306       0.9070   \n",
       "1  NB_1.2     1     0   1       0.9588      0.8991     0.9026       0.8934   \n",
       "2  NB_1.3     0     1   0       0.9753      0.8991     0.9026       0.8617   \n",
       "3  NB_1.4     0     1   1       0.9597      0.8896     0.8921       0.8458   \n",
       "\n",
       "   Recall  F1 Score  ROC AUC Score  \n",
       "0  0.9016    0.9159         0.9043  \n",
       "1  0.9262    0.9142         0.8940  \n",
       "2  0.9262    0.9142         0.8940  \n",
       "3  0.9213    0.9065         0.8836  "
      ]
     },
     "execution_count": 32,
     "metadata": {},
     "output_type": "execute_result"
    }
   ],
   "source": [
    "df_nb = pd.DataFrame(dict_nb)\n",
    "df_nb.round(4) # rounding off values to 4 decimal places"
   ]
  },
  {
   "cell_type": "markdown",
   "metadata": {},
   "source": [
    "#### General Observations for using Multinomial Naive Bayes as the Satirical News Classification Model\n",
    "* All models tend to be overfitted to the training set.\n",
    "* Using Count Vectorizer as a transformer generally yields better scores as compared to using TD-IDF Vectorizer with some exceptions e.g. `Recall`\n",
    "* NB_1.2 and NB_1.3 has the highest `Recall` scores, meaning that the chances of getting false negatives are lower compared to the other two models."
   ]
  },
  {
   "cell_type": "markdown",
   "metadata": {},
   "source": [
    "## Logistic Regression <a class=\"anchor\" id=\"logreg\"></a>\n",
    "---\n",
    "[Back to top!](#toc)\n",
    "\n",
    "A total of 4 models will be trained using Logistic Regression as an estimator:\n",
    "* Model LR_2.1 - Using CountVectorizer and Logistic Regression\n",
    "* Model LR_2.2 - Optimizing Model LR_2.1 using GridSearchCV\n",
    "* Model LR_2.3 - Using TF-IDF Vectorizer and Logistic Regression\n",
    "* Model LR_2.4 - Optimizing Model LR_2.3 using GridSearchCV"
   ]
  },
  {
   "cell_type": "markdown",
   "metadata": {},
   "source": [
    "#### Model LR_2.1 - Using CountVectorizer and Logistic Regression <a class=\"anchor\" id=\"lr_2.1\"></a>\n",
    "[Back to top!](#toc)"
   ]
  },
  {
   "cell_type": "code",
   "execution_count": 37,
   "metadata": {
    "scrolled": true
   },
   "outputs": [
    {
     "data": {
      "text/plain": [
       "{'memory': None,\n",
       " 'steps': [('cvec',\n",
       "   CountVectorizer(stop_words=('english', 'onion', 'topical', 'ho'))),\n",
       "  ('lr', LogisticRegression())],\n",
       " 'verbose': False,\n",
       " 'cvec': CountVectorizer(stop_words=('english', 'onion', 'topical', 'ho')),\n",
       " 'lr': LogisticRegression(),\n",
       " 'cvec__analyzer': 'word',\n",
       " 'cvec__binary': False,\n",
       " 'cvec__decode_error': 'strict',\n",
       " 'cvec__dtype': numpy.int64,\n",
       " 'cvec__encoding': 'utf-8',\n",
       " 'cvec__input': 'content',\n",
       " 'cvec__lowercase': True,\n",
       " 'cvec__max_df': 1.0,\n",
       " 'cvec__max_features': None,\n",
       " 'cvec__min_df': 1,\n",
       " 'cvec__ngram_range': (1, 1),\n",
       " 'cvec__preprocessor': None,\n",
       " 'cvec__stop_words': ('english', 'onion', 'topical', 'ho'),\n",
       " 'cvec__strip_accents': None,\n",
       " 'cvec__token_pattern': '(?u)\\\\b\\\\w\\\\w+\\\\b',\n",
       " 'cvec__tokenizer': None,\n",
       " 'cvec__vocabulary': None,\n",
       " 'lr__C': 1.0,\n",
       " 'lr__class_weight': None,\n",
       " 'lr__dual': False,\n",
       " 'lr__fit_intercept': True,\n",
       " 'lr__intercept_scaling': 1,\n",
       " 'lr__l1_ratio': None,\n",
       " 'lr__max_iter': 100,\n",
       " 'lr__multi_class': 'auto',\n",
       " 'lr__n_jobs': None,\n",
       " 'lr__penalty': 'l2',\n",
       " 'lr__random_state': None,\n",
       " 'lr__solver': 'lbfgs',\n",
       " 'lr__tol': 0.0001,\n",
       " 'lr__verbose': 0,\n",
       " 'lr__warm_start': False}"
      ]
     },
     "execution_count": 37,
     "metadata": {},
     "output_type": "execute_result"
    }
   ],
   "source": [
    "# redefining training and testing sets\n",
    "X_train, X_test, y_train, y_test = train_test_split(X, y, test_size=0.25, random_state=42)\n",
    "\n",
    "# Setting up pipeline for model 2.1\n",
    "# 1. CountVectorizer (transformer)\n",
    "# 2. Logistic Regression (estimator)\n",
    "pipe_21 = Pipeline([\n",
    "    ('cvec', CountVectorizer(stop_words=('english', 'onion', 'topical', 'ho'))),\n",
    "    ('lr', LogisticRegression())\n",
    "])\n",
    "\n",
    "# Fitting the pipeline\n",
    "pipe_21.fit(X_train, y_train)\n",
    "pipe_21.get_params()"
   ]
  },
  {
   "cell_type": "code",
   "execution_count": 38,
   "metadata": {},
   "outputs": [
    {
     "name": "stdout",
     "output_type": "stream",
     "text": [
      "Model LR_2.1\n",
      "------------\n",
      "Training score: 0.9965\n",
      "Testing score: 0.9049\n"
     ]
    }
   ],
   "source": [
    "get_scores('Model LR_2.1', pipe_21)\n",
    "\n",
    "# keeping variable for summary input later\n",
    "train_score_21 = pipe_21.score(X_train, y_train)"
   ]
  },
  {
   "cell_type": "code",
   "execution_count": 39,
   "metadata": {},
   "outputs": [
    {
     "name": "stdout",
     "output_type": "stream",
     "text": [
      "Model LR_2.1\n",
      "------------\n",
      "True Negatives: 377\n",
      "False Positives: 64\n",
      "False Negatives: 36\n",
      "True Positives: 574\n",
      "\n",
      "Accuracy: 0.9049\n",
      "Specificity: 0.8549\n",
      "Sensitivity: 0.941\n",
      "Precision: 0.8997\n",
      "F1 score: 0.9199\n",
      "ROC AUC score: 0.8979\n"
     ]
    },
    {
     "data": {
      "image/png": "[encoded data removed]",
      "text/plain": [
       "<Figure size 432x288 with 2 Axes>"
      ]
     },
     "metadata": {
      "needs_background": "light"
     },
     "output_type": "display_data"
    }
   ],
   "source": [
    "# Get predictions\n",
    "preds_21 = pipe_21.predict(X_test)\n",
    "\n",
    "# Save confusion matrix values\n",
    "tn, fp, fn, tp = confusion_matrix(y_test, preds_21).ravel()\n",
    "cm_21 = tn, fp, fn, tp \n",
    "get_evaluation_metrics('Model LR_2.1', cm_21, preds_21)\n",
    "\n",
    "# keeping variable for summary input later\n",
    "spec_21 = tn / (tn + fp)\n",
    "\n",
    "# visualizing confusion matrix\n",
    "plot_confusion_matrix(pipe_21, X_test, y_test, cmap='Blues', values_format='d');"
   ]
  },
  {
   "cell_type": "markdown",
   "metadata": {},
   "source": [
    "#### Model LR_2.2 - Optimizing Model LR_2.1 using GridSearchCV  <a class=\"anchor\" id=\"lr_2.2\"></a>\n",
    "[Back to top!](#toc)"
   ]
  },
  {
   "cell_type": "code",
   "execution_count": 40,
   "metadata": {},
   "outputs": [],
   "source": [
    "# Search over the following values of hyperparameters:\n",
    "# Maximum number of features fit: 2000, 3000, 4000, 5000\n",
    "# Minimum number of documents needed to include token: 2, 3\n",
    "# Maximum number of documents needed to include token: 90%, 95%\n",
    "# Check (individual tokens) and also check (individual tokens and 2-grams).\n",
    "\n",
    "pipe_params = {\n",
    "    'cvec__max_features': [2_000, 3_000, 4_000, 5_000],\n",
    "    'cvec__min_df': [2, 3],\n",
    "    'cvec__max_df': [.9, .95],\n",
    "    'cvec__ngram_range': [(1,1), (1,2)]\n",
    "}"
   ]
  },
  {
   "cell_type": "code",
   "execution_count": 41,
   "metadata": {},
   "outputs": [
    {
     "data": {
      "text/plain": [
       "GridSearchCV(cv=5,\n",
       "             estimator=Pipeline(steps=[('cvec',\n",
       "                                        CountVectorizer(stop_words=('english',\n",
       "                                                                    'onion',\n",
       "                                                                    'topical',\n",
       "                                                                    'ho'))),\n",
       "                                       ('lr', LogisticRegression())]),\n",
       "             param_grid={'cvec__max_df': [0.9, 0.95],\n",
       "                         'cvec__max_features': [2000, 3000, 4000, 5000],\n",
       "                         'cvec__min_df': [2, 3],\n",
       "                         'cvec__ngram_range': [(1, 1), (1, 2)]})"
      ]
     },
     "execution_count": 41,
     "metadata": {},
     "output_type": "execute_result"
    }
   ],
   "source": [
    "# Instantiate GridSearchCV.\n",
    "cvec_gs = GridSearchCV(pipe_21, # what object are we optimizing?\n",
    "                       param_grid=pipe_params, # what parameters values are we searching?\n",
    "                       cv=5) # 5-fold cross-validation.\n",
    "\n",
    "# Fit GridSearch to training data.\n",
    "cvec_gs.fit(X_train, y_train)"
   ]
  },
  {
   "cell_type": "code",
   "execution_count": 42,
   "metadata": {},
   "outputs": [
    {
     "name": "stdout",
     "output_type": "stream",
     "text": [
      "Model LR_2.2\n",
      "------------\n",
      "Best Parameters: {'cvec__max_df': 0.9, 'cvec__max_features': 4000, 'cvec__min_df': 2, 'cvec__ngram_range': (1, 1)}\n",
      "Best train score: 0.89\n"
     ]
    }
   ],
   "source": [
    "get_gs_metrics('Model LR_2.2', cvec_gs)"
   ]
  },
  {
   "cell_type": "code",
   "execution_count": 43,
   "metadata": {},
   "outputs": [
    {
     "name": "stdout",
     "output_type": "stream",
     "text": [
      "Model LR_2.2\n",
      "------------\n",
      "Training score: 0.9899\n",
      "Testing score: 0.8991\n"
     ]
    }
   ],
   "source": [
    "get_scores('Model LR_2.2', cvec_gs)\n",
    "\n",
    "# keeping variable for summary input later\n",
    "train_score_22 = cvec_gs.score(X_train, y_train)"
   ]
  },
  {
   "cell_type": "code",
   "execution_count": 44,
   "metadata": {},
   "outputs": [
    {
     "name": "stdout",
     "output_type": "stream",
     "text": [
      "Model LR_2.2\n",
      "------------\n",
      "True Negatives: 376\n",
      "False Positives: 65\n",
      "False Negatives: 41\n",
      "True Positives: 569\n",
      "\n",
      "Accuracy: 0.8991\n",
      "Specificity: 0.8526\n",
      "Sensitivity: 0.9328\n",
      "Precision: 0.8975\n",
      "F1 score: 0.9148\n",
      "ROC AUC score: 0.8927\n"
     ]
    },
    {
     "data": {
      "image/png": "[encoded data removed]",
      "text/plain": [
       "<Figure size 432x288 with 2 Axes>"
      ]
     },
     "metadata": {
      "needs_background": "light"
     },
     "output_type": "display_data"
    }
   ],
   "source": [
    "# Get predictions\n",
    "preds_22 = cvec_gs.predict(X_test)\n",
    "\n",
    "# Save confusion matrix values\n",
    "tn, fp, fn, tp = confusion_matrix(y_test, preds_22).ravel()\n",
    "cm_22 = tn, fp, fn, tp \n",
    "get_evaluation_metrics('Model LR_2.2', cm_22, preds_22)\n",
    "\n",
    "# keeping variable for summary input later\n",
    "spec_22 = tn / (tn + fp)\n",
    "\n",
    "# visualizing confusion matrix\n",
    "plot_confusion_matrix(cvec_gs, X_test, y_test, cmap='Blues', values_format='d');"
   ]
  },
  {
   "cell_type": "markdown",
   "metadata": {},
   "source": [
    "#### Model LR_2.3 - Using TF-IDF Vectorizer and Logistic Regression <a class=\"anchor\" id=\"lr_2.3\"></a>\n",
    "[Back to top!](#toc)"
   ]
  },
  {
   "cell_type": "code",
   "execution_count": 45,
   "metadata": {
    "scrolled": true
   },
   "outputs": [
    {
     "data": {
      "text/plain": [
       "{'memory': None,\n",
       " 'steps': [('tvec',\n",
       "   TfidfVectorizer(stop_words=('english', 'onion', 'topical', 'ho'))),\n",
       "  ('lr', LogisticRegression())],\n",
       " 'verbose': False,\n",
       " 'tvec': TfidfVectorizer(stop_words=('english', 'onion', 'topical', 'ho')),\n",
       " 'lr': LogisticRegression(),\n",
       " 'tvec__analyzer': 'word',\n",
       " 'tvec__binary': False,\n",
       " 'tvec__decode_error': 'strict',\n",
       " 'tvec__dtype': numpy.float64,\n",
       " 'tvec__encoding': 'utf-8',\n",
       " 'tvec__input': 'content',\n",
       " 'tvec__lowercase': True,\n",
       " 'tvec__max_df': 1.0,\n",
       " 'tvec__max_features': None,\n",
       " 'tvec__min_df': 1,\n",
       " 'tvec__ngram_range': (1, 1),\n",
       " 'tvec__norm': 'l2',\n",
       " 'tvec__preprocessor': None,\n",
       " 'tvec__smooth_idf': True,\n",
       " 'tvec__stop_words': ('english', 'onion', 'topical', 'ho'),\n",
       " 'tvec__strip_accents': None,\n",
       " 'tvec__sublinear_tf': False,\n",
       " 'tvec__token_pattern': '(?u)\\\\b\\\\w\\\\w+\\\\b',\n",
       " 'tvec__tokenizer': None,\n",
       " 'tvec__use_idf': True,\n",
       " 'tvec__vocabulary': None,\n",
       " 'lr__C': 1.0,\n",
       " 'lr__class_weight': None,\n",
       " 'lr__dual': False,\n",
       " 'lr__fit_intercept': True,\n",
       " 'lr__intercept_scaling': 1,\n",
       " 'lr__l1_ratio': None,\n",
       " 'lr__max_iter': 100,\n",
       " 'lr__multi_class': 'auto',\n",
       " 'lr__n_jobs': None,\n",
       " 'lr__penalty': 'l2',\n",
       " 'lr__random_state': None,\n",
       " 'lr__solver': 'lbfgs',\n",
       " 'lr__tol': 0.0001,\n",
       " 'lr__verbose': 0,\n",
       " 'lr__warm_start': False}"
      ]
     },
     "execution_count": 45,
     "metadata": {},
     "output_type": "execute_result"
    }
   ],
   "source": [
    "# redefining training and testing sets\n",
    "X_train, X_test, y_train, y_test = train_test_split(X, y, test_size=0.25, random_state=42)\n",
    "\n",
    "# Setting up pipeline for model 2.1\n",
    "# 1. TF-IDF Vectorizer (transformer)\n",
    "# 2. Logistic Regression (estimator)\n",
    "pipe_23 = Pipeline([\n",
    "    ('tvec', TfidfVectorizer(stop_words=('english', 'onion', 'topical', 'ho'))),\n",
    "    ('lr', LogisticRegression())\n",
    "])\n",
    "\n",
    "# Fitting the pipeline\n",
    "pipe_23.fit(X_train, y_train)\n",
    "pipe_23.get_params()"
   ]
  },
  {
   "cell_type": "code",
   "execution_count": 46,
   "metadata": {},
   "outputs": [
    {
     "name": "stdout",
     "output_type": "stream",
     "text": [
      "Model LR_2.3\n",
      "------------\n",
      "Training score: 0.9623\n",
      "Testing score: 0.8915\n"
     ]
    }
   ],
   "source": [
    "get_scores('Model LR_2.3', pipe_23)\n",
    "\n",
    "# keeping variable for summary input later\n",
    "train_score_23 = pipe_23.score(X_train, y_train)"
   ]
  },
  {
   "cell_type": "code",
   "execution_count": 47,
   "metadata": {},
   "outputs": [
    {
     "name": "stdout",
     "output_type": "stream",
     "text": [
      "Model LR_2.3\n",
      "------------\n",
      "True Negatives: 353\n",
      "False Positives: 88\n",
      "False Negatives: 26\n",
      "True Positives: 584\n",
      "\n",
      "Accuracy: 0.8915\n",
      "Specificity: 0.8005\n",
      "Sensitivity: 0.9574\n",
      "Precision: 0.869\n",
      "F1 score: 0.9111\n",
      "ROC AUC score: 0.8789\n"
     ]
    },
    {
     "data": {
      "image/png": "[encoded data removed]",
      "text/plain": [
       "<Figure size 432x288 with 2 Axes>"
      ]
     },
     "metadata": {
      "needs_background": "light"
     },
     "output_type": "display_data"
    }
   ],
   "source": [
    "# Get predictions\n",
    "preds_23 = pipe_23.predict(X_test)\n",
    "\n",
    "# Save confusion matrix values\n",
    "tn, fp, fn, tp = confusion_matrix(y_test, preds_23).ravel()\n",
    "cm_23 = tn, fp, fn, tp \n",
    "get_evaluation_metrics('Model LR_2.3', cm_23, preds_23)\n",
    "\n",
    "# keeping variable for summary input later\n",
    "spec_23 = tn / (tn + fp)\n",
    "\n",
    "# visualizing confusion matrix\n",
    "plot_confusion_matrix(pipe_23, X_test, y_test, cmap='Blues', values_format='d');"
   ]
  },
  {
   "cell_type": "markdown",
   "metadata": {},
   "source": [
    "#### Model LR_2.4 - Optimizing Model LR_2.3 using GridSearchCV <a class=\"anchor\" id=\"lr_2.4\"></a>\n",
    "[Back to top!](#toc)"
   ]
  },
  {
   "cell_type": "code",
   "execution_count": 48,
   "metadata": {},
   "outputs": [],
   "source": [
    "# Search over the following values of hyperparameters:\n",
    "# Maximum number of features fit: 2000, 3000, 4000, 5000\n",
    "# Minimum number of documents needed to include token: 2, 3\n",
    "# Maximum number of documents needed to include token: 90%, 95%\n",
    "# Check (individual tokens) and also check (individual tokens and 2-grams).\n",
    "\n",
    "pipe_params = {\n",
    "    'tvec__max_features': [2_000, 3_000, 4_000, 5_000],\n",
    "    'tvec__min_df': [2, 3],\n",
    "    'tvec__max_df': [.9, .95],\n",
    "    'tvec__ngram_range': [(1,1), (1,2)]\n",
    "}"
   ]
  },
  {
   "cell_type": "code",
   "execution_count": 49,
   "metadata": {},
   "outputs": [
    {
     "data": {
      "text/plain": [
       "GridSearchCV(cv=5,\n",
       "             estimator=Pipeline(steps=[('tvec',\n",
       "                                        TfidfVectorizer(stop_words=('english',\n",
       "                                                                    'onion',\n",
       "                                                                    'topical',\n",
       "                                                                    'ho'))),\n",
       "                                       ('lr', LogisticRegression())]),\n",
       "             param_grid={'tvec__max_df': [0.9, 0.95],\n",
       "                         'tvec__max_features': [2000, 3000, 4000, 5000],\n",
       "                         'tvec__min_df': [2, 3],\n",
       "                         'tvec__ngram_range': [(1, 1), (1, 2)]})"
      ]
     },
     "execution_count": 49,
     "metadata": {},
     "output_type": "execute_result"
    }
   ],
   "source": [
    "# Instantiate GridSearchCV.\n",
    "tvec_gs = GridSearchCV(pipe_23, # what object are we optimizing?\n",
    "                       param_grid=pipe_params, # what parameters values are we searching?\n",
    "                       cv=5) # 5-fold cross-validation.\n",
    "\n",
    "# Fit GridSearch to training data.\n",
    "tvec_gs.fit(X_train, y_train)"
   ]
  },
  {
   "cell_type": "code",
   "execution_count": 50,
   "metadata": {},
   "outputs": [
    {
     "name": "stdout",
     "output_type": "stream",
     "text": [
      "Model LR_2.4\n",
      "------------\n",
      "Best Parameters: {'tvec__max_df': 0.9, 'tvec__max_features': 4000, 'tvec__min_df': 3, 'tvec__ngram_range': (1, 2)}\n",
      "Best train score: 0.8877\n"
     ]
    }
   ],
   "source": [
    "get_gs_metrics('Model LR_2.4', tvec_gs)"
   ]
  },
  {
   "cell_type": "code",
   "execution_count": 51,
   "metadata": {},
   "outputs": [
    {
     "name": "stdout",
     "output_type": "stream",
     "text": [
      "Model LR_2.4\n",
      "------------\n",
      "Training score: 0.9559\n",
      "Testing score: 0.8868\n"
     ]
    }
   ],
   "source": [
    "get_scores('Model LR_2.4', tvec_gs)\n",
    "\n",
    "# keeping variable for summary input later\n",
    "train_score_24 = tvec_gs.score(X_train, y_train)"
   ]
  },
  {
   "cell_type": "code",
   "execution_count": 52,
   "metadata": {},
   "outputs": [
    {
     "name": "stdout",
     "output_type": "stream",
     "text": [
      "Model LR_2.4\n",
      "------------\n",
      "True Negatives: 357\n",
      "False Positives: 84\n",
      "False Negatives: 35\n",
      "True Positives: 575\n",
      "\n",
      "Accuracy: 0.8868\n",
      "Specificity: 0.8095\n",
      "Sensitivity: 0.9426\n",
      "Precision: 0.8725\n",
      "F1 score: 0.9062\n",
      "ROC AUC score: 0.8761\n"
     ]
    },
    {
     "data": {
      "image/png": "[encoded data removed]",
      "text/plain": [
       "<Figure size 432x288 with 2 Axes>"
      ]
     },
     "metadata": {
      "needs_background": "light"
     },
     "output_type": "display_data"
    }
   ],
   "source": [
    "# Get predictions\n",
    "preds_24 = tvec_gs.predict(X_test)\n",
    "\n",
    "# Save confusion matrix values\n",
    "tn, fp, fn, tp = confusion_matrix(y_test, preds_24).ravel()\n",
    "cm_24 = tn, fp, fn, tp \n",
    "get_evaluation_metrics('Model LR_2.4', cm_24, preds_24)\n",
    "\n",
    "# keeping variable for summary input later\n",
    "spec_24 = tn / (tn + fp)\n",
    "\n",
    "# visualizing confusion matrix\n",
    "plot_confusion_matrix(tvec_gs, X_test, y_test, cmap='Blues', values_format='d');"
   ]
  },
  {
   "cell_type": "markdown",
   "metadata": {},
   "source": [
    "#### Summary & Evaluation for Logistic Regression Modelling <a class=\"anchor\" id=\"lr_summary\"></a>\n",
    "[Back to top!](#toc)"
   ]
  },
  {
   "cell_type": "code",
   "execution_count": 53,
   "metadata": {},
   "outputs": [],
   "source": [
    "# list of dict\n",
    "dict_lr = [{'Model': 'LR_2.1', \n",
    "            'cvec': 1, 'tvec': 0, 'gs': 0,\n",
    "            'Train Score': train_score_21, \n",
    "            'Test Score': accuracy_score(y_test, preds_21),\n",
    "            'Precision': precision_score(y_test, preds_21), \n",
    "            'Specificity': spec_21,\n",
    "            'Recall': recall_score(y_test, preds_21),\n",
    "            'F1 Score': f1_score(y_test, preds_21), \n",
    "            'ROC AUC Score': roc_auc_score(y_test, preds_21),},\n",
    "           {'Model': 'LR_2.2', \n",
    "            'cvec': 1, 'tvec': 0, 'gs': 1,\n",
    "            'Train Score': train_score_22, \n",
    "            'Test Score': accuracy_score(y_test, preds_22),\n",
    "            'Precision': precision_score(y_test, preds_22), \n",
    "            'Specificity': spec_22,\n",
    "            'Recall': recall_score(y_test, preds_22),\n",
    "            'F1 Score': f1_score(y_test, preds_22), \n",
    "            'ROC AUC Score': roc_auc_score(y_test, preds_22),},\n",
    "           {'Model': 'LR_2.3', \n",
    "            'cvec': 0, 'tvec': 1, 'gs': 0,\n",
    "            'Train Score': train_score_23, \n",
    "            'Test Score': accuracy_score(y_test, preds_23),\n",
    "            'Precision': precision_score(y_test, preds_23), \n",
    "            'Specificity': spec_23,\n",
    "            'Recall': recall_score(y_test, preds_23),\n",
    "            'F1 Score': f1_score(y_test, preds_23), \n",
    "            'ROC AUC Score': roc_auc_score(y_test, preds_23),},\n",
    "           {'Model': 'LR_2.4', \n",
    "            'cvec': 0, 'tvec': 1, 'gs': 1,\n",
    "            'Train Score': train_score_24, \n",
    "            'Test Score': accuracy_score(y_test, preds_24),\n",
    "            'Precision': precision_score(y_test, preds_24), \n",
    "            'Specificity': spec_24,\n",
    "            'Recall': recall_score(y_test, preds_24),\n",
    "            'F1 Score': f1_score(y_test, preds_24), \n",
    "            'ROC AUC Score': roc_auc_score(y_test, preds_24),}\n",
    "           ]"
   ]
  },
  {
   "cell_type": "code",
   "execution_count": 54,
   "metadata": {},
   "outputs": [
    {
     "data": {
      "text/html": [
       "<div>\n",
       "<style scoped>\n",
       "    .dataframe tbody tr th:only-of-type {\n",
       "        vertical-align: middle;\n",
       "    }\n",
       "\n",
       "    .dataframe tbody tr th {\n",
       "        vertical-align: top;\n",
       "    }\n",
       "\n",
       "    .dataframe thead th {\n",
       "        text-align: right;\n",
       "    }\n",
       "</style>\n",
       "<table border=\"1\" class=\"dataframe\">\n",
       "  <thead>\n",
       "    <tr style=\"text-align: right;\">\n",
       "      <th></th>\n",
       "      <th>Model</th>\n",
       "      <th>cvec</th>\n",
       "      <th>tvec</th>\n",
       "      <th>gs</th>\n",
       "      <th>Train Score</th>\n",
       "      <th>Test Score</th>\n",
       "      <th>Precision</th>\n",
       "      <th>Specificity</th>\n",
       "      <th>Recall</th>\n",
       "      <th>F1 Score</th>\n",
       "      <th>ROC AUC Score</th>\n",
       "    </tr>\n",
       "  </thead>\n",
       "  <tbody>\n",
       "    <tr>\n",
       "      <th>0</th>\n",
       "      <td>LR_2.1</td>\n",
       "      <td>1</td>\n",
       "      <td>0</td>\n",
       "      <td>0</td>\n",
       "      <td>0.9965</td>\n",
       "      <td>0.9049</td>\n",
       "      <td>0.8997</td>\n",
       "      <td>0.8549</td>\n",
       "      <td>0.9410</td>\n",
       "      <td>0.9199</td>\n",
       "      <td>0.8979</td>\n",
       "    </tr>\n",
       "    <tr>\n",
       "      <th>1</th>\n",
       "      <td>LR_2.2</td>\n",
       "      <td>1</td>\n",
       "      <td>0</td>\n",
       "      <td>1</td>\n",
       "      <td>0.9899</td>\n",
       "      <td>0.8991</td>\n",
       "      <td>0.8975</td>\n",
       "      <td>0.8526</td>\n",
       "      <td>0.9328</td>\n",
       "      <td>0.9148</td>\n",
       "      <td>0.8927</td>\n",
       "    </tr>\n",
       "    <tr>\n",
       "      <th>2</th>\n",
       "      <td>LR_2.3</td>\n",
       "      <td>0</td>\n",
       "      <td>1</td>\n",
       "      <td>0</td>\n",
       "      <td>0.9623</td>\n",
       "      <td>0.8915</td>\n",
       "      <td>0.8690</td>\n",
       "      <td>0.8005</td>\n",
       "      <td>0.9574</td>\n",
       "      <td>0.9111</td>\n",
       "      <td>0.8789</td>\n",
       "    </tr>\n",
       "    <tr>\n",
       "      <th>3</th>\n",
       "      <td>LR_2.4</td>\n",
       "      <td>0</td>\n",
       "      <td>1</td>\n",
       "      <td>1</td>\n",
       "      <td>0.9559</td>\n",
       "      <td>0.8868</td>\n",
       "      <td>0.8725</td>\n",
       "      <td>0.8095</td>\n",
       "      <td>0.9426</td>\n",
       "      <td>0.9062</td>\n",
       "      <td>0.8761</td>\n",
       "    </tr>\n",
       "  </tbody>\n",
       "</table>\n",
       "</div>"
      ],
      "text/plain": [
       "    Model  cvec  tvec  gs  Train Score  Test Score  Precision  Specificity  \\\n",
       "0  LR_2.1     1     0   0       0.9965      0.9049     0.8997       0.8549   \n",
       "1  LR_2.2     1     0   1       0.9899      0.8991     0.8975       0.8526   \n",
       "2  LR_2.3     0     1   0       0.9623      0.8915     0.8690       0.8005   \n",
       "3  LR_2.4     0     1   1       0.9559      0.8868     0.8725       0.8095   \n",
       "\n",
       "   Recall  F1 Score  ROC AUC Score  \n",
       "0  0.9410    0.9199         0.8979  \n",
       "1  0.9328    0.9148         0.8927  \n",
       "2  0.9574    0.9111         0.8789  \n",
       "3  0.9426    0.9062         0.8761  "
      ]
     },
     "execution_count": 54,
     "metadata": {},
     "output_type": "execute_result"
    }
   ],
   "source": [
    "df_lr = pd.DataFrame(dict_lr)\n",
    "df_lr.round(4) # rounding off values to 4 decimal places"
   ]
  },
  {
   "cell_type": "markdown",
   "metadata": {},
   "source": [
    "#### General Observations for using Logistic Regression as the Satirical News Classification Model\n",
    "* All models tend to be overfitted to the training set.\n",
    "* Using Count Vectorizer as a transformer generally yields better scores as compared to using TD-IDF Vectorizer with some exceptions e.g. `Recall`\n",
    "* LR_2.3 has the highest `Recall` score, meaning that the chances of getting false negatives are lower compared to the other three models."
   ]
  },
  {
   "cell_type": "code",
   "execution_count": 55,
   "metadata": {},
   "outputs": [],
   "source": [
    "# Evaluation and Conceptual Understanding\n",
    "\n",
    "#     Does the student accurately identify and explain the baseline score?\n",
    "#     Does the student select and use metrics relevant to the problem objective?\n",
    "#     Does the student interpret the results of their model for purposes of inference?\n",
    "#     Is domain knowledge demonstrated when interpreting results?\n",
    "#     Does the student provide appropriate interpretation with regards to descriptive and inferential statistics?\n"
   ]
  },
  {
   "cell_type": "markdown",
   "metadata": {},
   "source": [
    "## Comparison of Scores across all Models <a class=\"anchor\" id=\"comparison\"></a>\n",
    "---\n",
    "[Back to top!](#toc)"
   ]
  },
  {
   "cell_type": "markdown",
   "metadata": {},
   "source": [
    "In this case of a classification model where we are predicting posts that contains satirical news, we probably want to find some combination of sensitivity and Specificity. \n",
    "- Focusing only on sensitivity means we minimize false negatives. This means that there will be less news that we incorrectly predict as non-satire, but more news we incorrectly predict to be satire.\n",
    "- Focusing only on specificity means we minimize false positives. This means that there will be less news that we incorrectly predict as satire, but more news we incorrectly predict to be non-satire.\n",
    "\n",
    "Sensitivity and specificity are not equally important in this case though. Sensitivity is more important as it is better to tell people that non-satirical news are satire as compared to tell people that satirical news are not satire, reducing the chances of misinformation. \n",
    "\n",
    "While focusing on sensitivity, we must also not let specificity suffer too much. Lower specificity will result in the classification model telling us that most non-satirical news are satire, which might be unethical as it will mislead the masses to disbelieve news that may be true and relevant.\n",
    "\n",
    "Hence, in this classification model, the evaluation metrics optimized will be:\n",
    "1) `Recall`, as it's better than optimizing `Specificity`. <br/>\n",
    "2) Try to optimize `F1 Score`, a combination of `Recall` and `Specificity`. This will ensure that our specificity does not suffer too much as we are optimizing sensitivity."
   ]
  },
  {
   "cell_type": "code",
   "execution_count": 77,
   "metadata": {},
   "outputs": [
    {
     "data": {
      "text/html": [
       "<div>\n",
       "<style scoped>\n",
       "    .dataframe tbody tr th:only-of-type {\n",
       "        vertical-align: middle;\n",
       "    }\n",
       "\n",
       "    .dataframe tbody tr th {\n",
       "        vertical-align: top;\n",
       "    }\n",
       "\n",
       "    .dataframe thead th {\n",
       "        text-align: right;\n",
       "    }\n",
       "</style>\n",
       "<table border=\"1\" class=\"dataframe\">\n",
       "  <thead>\n",
       "    <tr style=\"text-align: right;\">\n",
       "      <th></th>\n",
       "      <th>Model</th>\n",
       "      <th>cvec</th>\n",
       "      <th>tvec</th>\n",
       "      <th>gs</th>\n",
       "      <th>Train Score</th>\n",
       "      <th>Test Score</th>\n",
       "      <th>Precision</th>\n",
       "      <th>Specificity</th>\n",
       "      <th>Recall</th>\n",
       "      <th>F1 Score</th>\n",
       "      <th>ROC AUC Score</th>\n",
       "      <th>Difference</th>\n",
       "    </tr>\n",
       "  </thead>\n",
       "  <tbody>\n",
       "    <tr>\n",
       "      <th>7</th>\n",
       "      <td>LR_2.3</td>\n",
       "      <td>0</td>\n",
       "      <td>1</td>\n",
       "      <td>0</td>\n",
       "      <td>0.9623</td>\n",
       "      <td>0.8915</td>\n",
       "      <td>0.8690</td>\n",
       "      <td>0.8005</td>\n",
       "      <td>0.9574</td>\n",
       "      <td>0.9111</td>\n",
       "      <td>0.8789</td>\n",
       "      <td>0.0707</td>\n",
       "    </tr>\n",
       "    <tr>\n",
       "      <th>8</th>\n",
       "      <td>LR_2.4</td>\n",
       "      <td>0</td>\n",
       "      <td>1</td>\n",
       "      <td>1</td>\n",
       "      <td>0.9559</td>\n",
       "      <td>0.8868</td>\n",
       "      <td>0.8725</td>\n",
       "      <td>0.8095</td>\n",
       "      <td>0.9426</td>\n",
       "      <td>0.9062</td>\n",
       "      <td>0.8761</td>\n",
       "      <td>0.0691</td>\n",
       "    </tr>\n",
       "    <tr>\n",
       "      <th>5</th>\n",
       "      <td>LR_2.1</td>\n",
       "      <td>1</td>\n",
       "      <td>0</td>\n",
       "      <td>0</td>\n",
       "      <td>0.9965</td>\n",
       "      <td>0.9049</td>\n",
       "      <td>0.8997</td>\n",
       "      <td>0.8549</td>\n",
       "      <td>0.9410</td>\n",
       "      <td>0.9199</td>\n",
       "      <td>0.8979</td>\n",
       "      <td>0.0917</td>\n",
       "    </tr>\n",
       "    <tr>\n",
       "      <th>6</th>\n",
       "      <td>LR_2.2</td>\n",
       "      <td>1</td>\n",
       "      <td>0</td>\n",
       "      <td>1</td>\n",
       "      <td>0.9899</td>\n",
       "      <td>0.8991</td>\n",
       "      <td>0.8975</td>\n",
       "      <td>0.8526</td>\n",
       "      <td>0.9328</td>\n",
       "      <td>0.9148</td>\n",
       "      <td>0.8927</td>\n",
       "      <td>0.0907</td>\n",
       "    </tr>\n",
       "    <tr>\n",
       "      <th>2</th>\n",
       "      <td>NB_1.2</td>\n",
       "      <td>1</td>\n",
       "      <td>0</td>\n",
       "      <td>1</td>\n",
       "      <td>0.9588</td>\n",
       "      <td>0.8991</td>\n",
       "      <td>0.9026</td>\n",
       "      <td>0.8934</td>\n",
       "      <td>0.9262</td>\n",
       "      <td>0.9142</td>\n",
       "      <td>0.8940</td>\n",
       "      <td>0.0596</td>\n",
       "    </tr>\n",
       "    <tr>\n",
       "      <th>3</th>\n",
       "      <td>NB_1.3</td>\n",
       "      <td>0</td>\n",
       "      <td>1</td>\n",
       "      <td>0</td>\n",
       "      <td>0.9753</td>\n",
       "      <td>0.8991</td>\n",
       "      <td>0.9026</td>\n",
       "      <td>0.8617</td>\n",
       "      <td>0.9262</td>\n",
       "      <td>0.9142</td>\n",
       "      <td>0.8940</td>\n",
       "      <td>0.0761</td>\n",
       "    </tr>\n",
       "    <tr>\n",
       "      <th>4</th>\n",
       "      <td>NB_1.4</td>\n",
       "      <td>0</td>\n",
       "      <td>1</td>\n",
       "      <td>1</td>\n",
       "      <td>0.9597</td>\n",
       "      <td>0.8896</td>\n",
       "      <td>0.8921</td>\n",
       "      <td>0.8458</td>\n",
       "      <td>0.9213</td>\n",
       "      <td>0.9065</td>\n",
       "      <td>0.8836</td>\n",
       "      <td>0.0701</td>\n",
       "    </tr>\n",
       "    <tr>\n",
       "      <th>1</th>\n",
       "      <td>NB_1.1</td>\n",
       "      <td>1</td>\n",
       "      <td>0</td>\n",
       "      <td>0</td>\n",
       "      <td>0.9772</td>\n",
       "      <td>0.9039</td>\n",
       "      <td>0.9306</td>\n",
       "      <td>0.9070</td>\n",
       "      <td>0.9016</td>\n",
       "      <td>0.9159</td>\n",
       "      <td>0.9043</td>\n",
       "      <td>0.0733</td>\n",
       "    </tr>\n",
       "    <tr>\n",
       "      <th>0</th>\n",
       "      <td>Null Model</td>\n",
       "      <td>0</td>\n",
       "      <td>0</td>\n",
       "      <td>0</td>\n",
       "      <td>NaN</td>\n",
       "      <td>0.5804</td>\n",
       "      <td>NaN</td>\n",
       "      <td>NaN</td>\n",
       "      <td>NaN</td>\n",
       "      <td>NaN</td>\n",
       "      <td>NaN</td>\n",
       "      <td>NaN</td>\n",
       "    </tr>\n",
       "  </tbody>\n",
       "</table>\n",
       "</div>"
      ],
      "text/plain": [
       "        Model  cvec  tvec  gs  Train Score  Test Score  Precision  \\\n",
       "7      LR_2.3     0     1   0       0.9623      0.8915     0.8690   \n",
       "8      LR_2.4     0     1   1       0.9559      0.8868     0.8725   \n",
       "5      LR_2.1     1     0   0       0.9965      0.9049     0.8997   \n",
       "6      LR_2.2     1     0   1       0.9899      0.8991     0.8975   \n",
       "2      NB_1.2     1     0   1       0.9588      0.8991     0.9026   \n",
       "3      NB_1.3     0     1   0       0.9753      0.8991     0.9026   \n",
       "4      NB_1.4     0     1   1       0.9597      0.8896     0.8921   \n",
       "1      NB_1.1     1     0   0       0.9772      0.9039     0.9306   \n",
       "0  Null Model     0     0   0          NaN      0.5804        NaN   \n",
       "\n",
       "   Specificity  Recall  F1 Score  ROC AUC Score  Difference  \n",
       "7       0.8005  0.9574    0.9111         0.8789      0.0707  \n",
       "8       0.8095  0.9426    0.9062         0.8761      0.0691  \n",
       "5       0.8549  0.9410    0.9199         0.8979      0.0917  \n",
       "6       0.8526  0.9328    0.9148         0.8927      0.0907  \n",
       "2       0.8934  0.9262    0.9142         0.8940      0.0596  \n",
       "3       0.8617  0.9262    0.9142         0.8940      0.0761  \n",
       "4       0.8458  0.9213    0.9065         0.8836      0.0701  \n",
       "1       0.9070  0.9016    0.9159         0.9043      0.0733  \n",
       "0          NaN     NaN       NaN            NaN         NaN  "
      ]
     },
     "execution_count": 77,
     "metadata": {},
     "output_type": "execute_result"
    }
   ],
   "source": [
    "all_models = [df_null, df_nb, df_lr]\n",
    "df_summary = pd.concat(all_models, ignore_index=True)\n",
    "\n",
    "# to estimate the extent of overfitting of model to training set across all models\n",
    "df_summary[['Difference']] = df_summary['Train Score'] - df_summary['Test Score']\n",
    "df_summary.round(4).sort_values(by=['Recall'], ascending=False)\n",
    "#df_summary.round(4)"
   ]
  },
  {
   "cell_type": "markdown",
   "metadata": {},
   "source": [
    "Looking across the scores of all classification models trained and tested:\n",
    "\n",
    "* All other models fared better than the baseline model. \n",
    "* All models have the tendency of overfitting to the training data as seen from `Difference`, with the highest being LR_2.1 and lowest being NB_1.2. This means that NB_1.2 has the best ability to generalize to unseen data among all models.\n",
    "* All the `Test Score` are in the same range of values (approximately 0.88 to 0.91).\n",
    "* Models using Logistic Regression generally has better `Recall` scores compared to Multinomial Naive Bayes.\n",
    "* LR_2.1 scored the highest for `Test Score` aka accuracy, but it is the most overfitted model among the others.\n",
    "* LR_2.3 scored the highest for `Recall`, but has a lower `F1 Score` compared to the rest of the models. \n",
    "* LR_2.1 scored the highest for `F1 Score` while having a relatively high score for `Recall` among all models.\n",
    "* While the `ROC AUC Score` is higher for LR_2.1 compared to LR_2.3, the difference is relatively small."
   ]
  },
  {
   "cell_type": "markdown",
   "metadata": {},
   "source": [
    "## Conclusions <a class=\"anchor\" id=\"conclusions\"></a>\n",
    "---\n",
    "[Back to top!](#toc)"
   ]
  },
  {
   "cell_type": "markdown",
   "metadata": {},
   "source": [
    "### Recommendations for the Satirical News Classifier\n",
    "\n",
    "LR_2.3 will be the most suitable model for this satirical news classifier based on the summary of scores shown above. It scores the best in `Recall`, which is the evaluation metric that should be optimized in order to reduce false negatives. The `F1 Score` is only slightly compromised (negligible difference of 0.0088) as a result of optimizing `Recall`, which is still within acceptable range. Similarly for `ROC AUC Score` where LR_2.3 scored the second lowest among all the other models, it is still within acceptable range.\n",
    "\n",
    "Hence, I would recommend LR_2.3 to be used as the satirical news classification model."
   ]
  },
  {
   "cell_type": "markdown",
   "metadata": {},
   "source": [
    "### Future Development for the Satirical News Classification Model\n",
    "\n",
    "1) Other classification models that can be trained and evaluated:\n",
    "- K-Nearest Neighbours\n",
    "- Decision Tree\n",
    "- Bagged Decision Trees\n",
    "- Random Forest\n",
    "- Support Vector Regressor \n",
    "<br/>\n",
    "\n",
    "2) Further hyperparameter tuning that can be done:\n",
    "- Using RandomizedSearchCV instead of only GridSearchCV to explore higher numbers of different hyperparameters\n",
    "<br/>\n",
    "\n",
    "3) More in-depth model evaluation metrics that can be done:\n",
    "- Optimizing a custom metric that weighs `Recall` somewhat more importantly than `Specificity`.\n",
    "- Looking at my ROC curve and try to find a place where `Recall` is very high and 1 - `Specificity` is pretty low.\n",
    "\n",
    "4) To further increase the business value of this project for the clients, instead of scraping only the posts of the subreddit to determine whether it is satirical news, this classification model can also scrape the contents of the linked articles to further determine whether it belongs to satire. This will not only increase the sensitivity of the model, but also ensure that the title of the post will not be able to mislead and by-pass the classification model if the linked article is actually a satire piece."
   ]
  },
  {
   "cell_type": "code",
   "execution_count": null,
   "metadata": {},
   "outputs": [],
   "source": []
  }
 ],
 "metadata": {
  "kernelspec": {
   "display_name": "Python 3",
   "language": "python",
   "name": "python3"
  },
  "language_info": {
   "codemirror_mode": {
    "name": "ipython",
    "version": 3
   },
   "file_extension": ".py",
   "mimetype": "text/x-python",
   "name": "python",
   "nbconvert_exporter": "python",
   "pygments_lexer": "ipython3",
   "version": "3.8.5"
  }
 },
 "nbformat": 4,
 "nbformat_minor": 4
}
